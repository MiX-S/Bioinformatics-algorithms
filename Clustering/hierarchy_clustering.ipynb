{
 "cells": [
  {
   "cell_type": "markdown",
   "metadata": {},
   "source": [
    "## <center>Иерархическая кластеризация"
   ]
  },
  {
   "cell_type": "code",
   "execution_count": 8,
   "metadata": {},
   "outputs": [],
   "source": [
    "import numpy as np\n",
    "import pandas as pd\n",
    "from scipy.spatial import distance\n",
    "from scipy.cluster.hierarchy import dendrogram, linkage\n",
    "import matplotlib\n",
    "import matplotlib.pyplot as plt\n",
    "matplotlib.style.use('ggplot')\n",
    "%matplotlib inline"
   ]
  },
  {
   "cell_type": "code",
   "execution_count": 3,
   "metadata": {},
   "outputs": [],
   "source": [
    "# df = pd.read_csv(\"C:/Users/mrtyb/Programming/Shad_Python_02_2/1_beverage/beverage_r.csv\", sep=\";\", index_col='numb.obs')\n",
    "\n",
    "# df = pd.read_csv(\"/home/smich/clust/Shad_Python_02_2/1_beverage/beverage_r.csv\", sep=\";\", index_col='numb.obs')"
   ]
  },
  {
   "cell_type": "markdown",
   "metadata": {},
   "source": [
    "### <center> 1. Метод ближайшего соседа"
   ]
  },
  {
   "cell_type": "markdown",
   "metadata": {},
   "source": [
    "Объект ```link``` представляет собой матрицу ```(n-1) x 4```, где ```n``` -- число наблюдений. Каждая строка матрицы представляет собой результат слияния очередной пары кластеров с номерами ```link[i, 0]``` и ```link[i, 1]```. Новому кластеру присваивается номер ```n + i```. ```link[i, 2]``` означает расстояние между слитыми кластерами, а ```link[i, 3]``` -- размер нового кластера."
   ]
  },
  {
   "cell_type": "code",
   "execution_count": 5,
   "metadata": {},
   "outputs": [],
   "source": [
    "def hierarchical_clustering(M, method='single', metric='euclidean', optimal_ordering=False):\n",
    "    # Number of observations:\n",
    "    N = M.shape[0]\n",
    "    d = M.shape[1]\n",
    "    \n",
    "    # Converting matrix M to a list of clusters\n",
    "    l_M = len(M)\n",
    "    M = [M[i].reshape(1, 2) for i in range(l_M)]\n",
    "\n",
    "    link = np.zeros(shape=(N-1,4))\n",
    "    \n",
    "    # Calculating the squared Euclidean distances for every pair of points\n",
    "    # in the N x d dimensional dataset.\n",
    "    dists = []\n",
    "    for i in range(l_M):\n",
    "        for j in range(i + 1, l_M):\n",
    "            dists.append(calc_dist(M[i], M[j], method = 'single'))\n",
    "        \n",
    "    # Converting the pairwise distances into a symmetric N x N matrix.\n",
    "    mat_dists = distance.squareform(dists)\n",
    "    np.fill_diagonal(mat_dists, np.inf)\n",
    "    \n",
    "    # Array with indexes of clusters\n",
    "    indexes = [i for i in range(N)]\n",
    "    \n",
    "    # Array with numbers of original observations in clusters\n",
    "    sizes = [1] * N\n",
    "    \n",
    "    for i in range(N-1):\n",
    "        \n",
    "        # Indexes of clusters:\n",
    "        k = int(np.unravel_index(np.argmin(mat_dists, axis=None), mat_dists.shape)[0])\n",
    "        l = int(np.unravel_index(np.argmin(mat_dists, axis=None), mat_dists.shape)[1])\n",
    "        link[i][0], link[i][1] = indexes[k], indexes[l]\n",
    "        \n",
    "        # Distance between clusters:\n",
    "        link[i][2] = mat_dists[k, l]\n",
    "        \n",
    "        # Size of a new cluster:\n",
    "        link[i][3] = sizes[k] + sizes[l]\n",
    "        \n",
    "        # Recalculate matrix M and array indexes:\n",
    "        \n",
    "        new_cluster = np.concatenate((M[k], M[l]), axis = 0) \n",
    "        # add new cluster in the end\n",
    "        M = [M[j] for j in range(l_M) if (j != k) and (j != l)]\n",
    "        M.append(new_cluster)\n",
    "        \n",
    "        indexes = [j for j in indexes if (j != link[i][0]) and (j != link[i][1])]\n",
    "        # add index of the new cluster in the end\n",
    "        indexes.append(N + i)\n",
    "        \n",
    "        l_sizes = len(sizes)\n",
    "        # remember sizes of concatenated clusters\n",
    "        size_k, size_l = sizes[k], sizes[l]\n",
    "        sizes = [sizes[j] for j in range(l_sizes) if (j != k) and (j != l)]\n",
    "        # add size of the new cluster in the end\n",
    "        sizes.append(link[i][3])\n",
    "        \n",
    "        # Recalculate distance Matrix:\n",
    "        l_M = len(M)\n",
    "        dists = []\n",
    "        for u in range(l_M):\n",
    "            for j in range(u + 1, l_M):\n",
    "                u_prototype = u + int(u >= min(k, l)) + ((u + int(u >= min(k, l))) >= max(k, l))\n",
    "                j_prototype = j + int(j >= min(k, l)) + ((j + int(j >= min(k, l))) >= max(k, l))\n",
    "                # if distance between new_cluster and smth else\n",
    "                if j == l_M - 1:\n",
    "                    dists.append(calc_dist(M[u], M[j], method = method, prev_mat_dists = mat_dists, indexes = (k, l, u_prototype)))\n",
    "                # if distance between old clusters\n",
    "                else:\n",
    "                    dists.append(calc_dist(M[u], M[j], method = method, prev_mat_dists = mat_dists, indexes = (u_prototype, j_prototype)))\n",
    "        mat_dists = distance.squareform(dists)\n",
    "        # remember sizes of concatenated clusters\n",
    "        np.fill_diagonal(mat_dists, np.inf)\n",
    "        \n",
    "    return link"
   ]
  },
  {
   "cell_type": "code",
   "execution_count": 6,
   "metadata": {},
   "outputs": [],
   "source": [
    "# Function for calculating distance between clusters:\n",
    "\n",
    "def calc_dist(clust_1, clust_2, method = 'single', prev_mat_dists = None, indexes = None):\n",
    "    \n",
    "    if method == 'single':\n",
    "        d = np.inf\n",
    "        for v in clust_1:\n",
    "            for u in clust_2:\n",
    "                d = min(d, distance.euclidean(v, u))\n",
    "                \n",
    "    elif method == 'UPGMA':\n",
    "    # method=’average’ ('UPGMA')\n",
    "        d = 0\n",
    "        for v in clust_1:\n",
    "            for u in clust_2:\n",
    "                d += distance.euclidean(v, u)\n",
    "        d = d / (len(clust_1) * len(clust_2))\n",
    "        \n",
    "    elif method == 'WPGMA':\n",
    "    # method=’weighted’ ('WPGMA') \n",
    "        if len(indexes) == 3:\n",
    "            d = (prev_mat_dists[indexes[0], indexes[2]] + prev_mat_dists[indexes[1], indexes[2]]) / 2\n",
    "        else:\n",
    "            d = prev_mat_dists[indexes[0], indexes[1]]\n",
    "            \n",
    "    else:\n",
    "        print('No such method')\n",
    "                \n",
    "    return d"
   ]
  },
  {
   "cell_type": "code",
   "execution_count": 84,
   "metadata": {},
   "outputs": [
    {
     "data": {
      "image/png": "[encoded data removed]",
      "text/plain": [
       "<Figure size 432x288 with 1 Axes>"
      ]
     },
     "metadata": {},
     "output_type": "display_data"
    }
   ],
   "source": [
    "M = np.array([[1, 1], [2, 2], [3, 3], [5, 5]])\n",
    "\n",
    "plt.scatter(M[:,0], M[:,1]);"
   ]
  },
  {
   "cell_type": "code",
   "execution_count": 85,
   "metadata": {
    "scrolled": true
   },
   "outputs": [],
   "source": [
    "link = hierarchical_clustering(M, method='single')\n",
    "\n",
    "Z = linkage(M, method='single', metric='euclidean', optimal_ordering=False)"
   ]
  },
  {
   "cell_type": "code",
   "execution_count": 86,
   "metadata": {},
   "outputs": [
    {
     "data": {
      "image/png": "[encoded data removed]",
      "text/plain": [
       "<Figure size 432x288 with 1 Axes>"
      ]
     },
     "metadata": {},
     "output_type": "display_data"
    }
   ],
   "source": [
    "dn = dendrogram(link)"
   ]
  },
  {
   "cell_type": "code",
   "execution_count": 87,
   "metadata": {},
   "outputs": [
    {
     "data": {
      "image/png": "[encoded data removed]",
      "text/plain": [
       "<Figure size 432x288 with 1 Axes>"
      ]
     },
     "metadata": {},
     "output_type": "display_data"
    }
   ],
   "source": [
    "dn = dendrogram(Z)"
   ]
  },
  {
   "cell_type": "markdown",
   "metadata": {},
   "source": [
    "### <center> 2. WPGMA"
   ]
  },
  {
   "cell_type": "code",
   "execution_count": 88,
   "metadata": {},
   "outputs": [],
   "source": [
    "link_2 = hierarchical_clustering(M, method='WPGMA')\n",
    "\n",
    "Z_2 = linkage(M, method='weighted', metric='euclidean', optimal_ordering=False)"
   ]
  },
  {
   "cell_type": "code",
   "execution_count": 89,
   "metadata": {},
   "outputs": [
    {
     "data": {
      "image/png": "[encoded data removed]",
      "text/plain": [
       "<Figure size 432x288 with 1 Axes>"
      ]
     },
     "metadata": {},
     "output_type": "display_data"
    }
   ],
   "source": [
    "dn = dendrogram(link_2)"
   ]
  },
  {
   "cell_type": "code",
   "execution_count": 90,
   "metadata": {},
   "outputs": [
    {
     "data": {
      "image/png": "[encoded data removed]",
      "text/plain": [
       "<Figure size 432x288 with 1 Axes>"
      ]
     },
     "metadata": {},
     "output_type": "display_data"
    }
   ],
   "source": [
    "dn = dendrogram(Z_2)"
   ]
  },
  {
   "cell_type": "markdown",
   "metadata": {},
   "source": [
    "### <center> 3. UPGMA"
   ]
  },
  {
   "cell_type": "code",
   "execution_count": 91,
   "metadata": {},
   "outputs": [],
   "source": [
    "link_3 = hierarchical_clustering(M, method='UPGMA')\n",
    "\n",
    "Z_3 = linkage(M, method='average', metric='euclidean', optimal_ordering=False)"
   ]
  },
  {
   "cell_type": "code",
   "execution_count": 92,
   "metadata": {},
   "outputs": [
    {
     "data": {
      "image/png": "[encoded data removed]",
      "text/plain": [
       "<Figure size 432x288 with 1 Axes>"
      ]
     },
     "metadata": {},
     "output_type": "display_data"
    }
   ],
   "source": [
    "dn = dendrogram(link_3)"
   ]
  },
  {
   "cell_type": "code",
   "execution_count": 93,
   "metadata": {},
   "outputs": [
    {
     "data": {
      "image/png": "[encoded data removed]",
      "text/plain": [
       "<Figure size 432x288 with 1 Axes>"
      ]
     },
     "metadata": {},
     "output_type": "display_data"
    }
   ],
   "source": [
    "dn = dendrogram(Z_3)"
   ]
  },
  {
   "cell_type": "code",
   "execution_count": 94,
   "metadata": {},
   "outputs": [
    {
     "data": {
      "image/png": "[encoded data removed]",
      "text/plain": [
       "<Figure size 432x288 with 1 Axes>"
      ]
     },
     "metadata": {},
     "output_type": "display_data"
    }
   ],
   "source": [
    "from scipy.cluster.hierarchy import fcluster\n",
    "\n",
    "clusters = fcluster(link_2, 2, criterion='maxclust')\n",
    "\n",
    "plt.scatter(M[:,0],M[:,1], c = clusters, cmap='prism');"
   ]
  },
  {
   "cell_type": "code",
   "execution_count": null,
   "metadata": {},
   "outputs": [],
   "source": []
  }
 ],
 "metadata": {
  "kernelspec": {
   "display_name": "Python 3",
   "language": "python",
   "name": "python3"
  },
  "language_info": {
   "codemirror_mode": {
    "name": "ipython",
    "version": 3
   },
   "file_extension": ".py",
   "mimetype": "text/x-python",
   "name": "python",
   "nbconvert_exporter": "python",
   "pygments_lexer": "ipython3",
   "version": "3.6.5"
  }
 },
 "nbformat": 4,
 "nbformat_minor": 2
}
